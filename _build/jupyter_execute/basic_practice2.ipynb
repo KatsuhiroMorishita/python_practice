{
 "cells": [
  {
   "cell_type": "markdown",
   "id": "51d562fd-36c6-4b8e-bfe1-e64695c08728",
   "metadata": {},
   "source": [
    "# 関数の問題\n",
    "**関数と組み込み関数**  \n",
    "　関数とは、複数行に渡る命令を1つの塊としていつでも呼び出せるようにする機能である。例えば、\n",
    "\n",
    "```python\n",
    "print(\"hello\")\n",
    "```\n",
    "\n",
    "を実行すれば、helloと表示される。これはprintという名前で、カッコ内に渡されたものを表示する機能が関数として登録されていたためである。このように、言語環境に最初から備わっている関数のことを組み込み関数という。また、関数は必要に応じて自分で作ることもできる。\n",
    "\n",
    "\n",
    "**関数の作り方**  \n",
    "　Pythonの関数は、以下の書式で作る。function_nameは関数名、argは関数に渡す引数を表している。関数の範囲は字下げされた部分である。字下げが終われば、関数の範囲もそこで終わる。\n",
    "\n",
    "```python\n",
    "\n",
    "def function_name(arg):\n",
    "    value = 100  # 何か処理　　　ここは関数内\n",
    "    return value              # ここは関数内\n",
    "\n",
    "a = 200  # 全然関係ない処理　　この行は字下げがないので、関数外\n",
    "```\n",
    "\n",
    "　例えば、以下の書き方でBMI（肥満度判定指標の一つ）を求めることができる。関数は関数名に続けて丸かっこ()により呼び出すことができ、その際に引数に代入する値を順に渡す。\n",
    "```python\n",
    "def BMI(height_m, weight_kg):    # 引数は身長[m]と体重[kg]\n",
    "    bmi_value =  weight_kg / (height_m**2)\n",
    "    return bmi_value\n",
    "\n",
    "print(BMI(1.70, 62))  # 関数の呼び出し（実行）\n",
    "```\n",
    "\n",
    "**関数の仮引数**  \n",
    "仮引数とは、引数を指定しなかった場合に代入される標準的な値を指定する方法である。\n"
   ]
  },
  {
   "cell_type": "code",
   "execution_count": 1,
   "id": "41ebbcdf-b6ce-4144-973d-ad33d5e63887",
   "metadata": {},
   "outputs": [
    {
     "name": "stdout",
     "output_type": "stream",
     "text": [
      "1100.0\n",
      "1500.0\n"
     ]
    }
   ],
   "source": [
    "# 仮引数の説明\n",
    "# rateには0.1が標準で入る\n",
    "# rateが引数で渡されないと0.1となる\n",
    "\n",
    "def get_value(x, rate=0.1):\n",
    "    return x * (1 + rate)\n",
    "\n",
    "print(get_value(1000))        # rateを指定していない\n",
    "print(get_value(1000, 0.5))   # rateを指定した。"
   ]
  },
  {
   "cell_type": "code",
   "execution_count": 2,
   "id": "c29cb7d5-87a3-4a32-9bb7-6f9e6489c7cf",
   "metadata": {},
   "outputs": [
    {
     "ename": "SyntaxError",
     "evalue": "non-default argument follows default argument (1402581148.py, line 6)",
     "output_type": "error",
     "traceback": [
      "\u001b[1;36m  Cell \u001b[1;32mIn [2], line 6\u001b[1;36m\u001b[0m\n\u001b[1;33m    def get_value(x=100, rate):\u001b[0m\n\u001b[1;37m                         ^\u001b[0m\n\u001b[1;31mSyntaxError\u001b[0m\u001b[1;31m:\u001b[0m non-default argument follows default argument\n"
     ]
    }
   ],
   "source": [
    "# 仮引数は便利だが、引数の順番としては、仮引数としない引数よりも右側にある必要がある。\n",
    "# したがって、以下の例ではエラーとなる。\n",
    "# エラーメッセージの「non-default argument follows default argument」を意訳すれば、\n",
    "# 「仮引数の右側に仮引数ではない引数がある」となる。\n",
    "\n",
    "def get_value(x=100, rate):\n",
    "    return x * (1 + rate)\n",
    "\n",
    "print(get_value(1000))"
   ]
  },
  {
   "cell_type": "markdown",
   "id": "86a76ded-7667-4ad9-aaf0-9cc17254e65c",
   "metadata": {},
   "source": [
    "---\n",
    "### 問題　税率を計算する関数\n",
    "次のセルに示すひな形を基に、税率を計算する関数を作成せよ。\n",
    "ただし、条件を以下のように定める。\n",
    "- xに税抜き値段, rateに税率を入れる\n",
    "- 税込みの金額を返す"
   ]
  },
  {
   "cell_type": "code",
   "execution_count": 15,
   "id": "92bf0f85-c3c5-493e-a546-05f85a57168d",
   "metadata": {},
   "outputs": [
    {
     "name": "stdout",
     "output_type": "stream",
     "text": [
      "100\n"
     ]
    }
   ],
   "source": [
    "# ひな形\n",
    "def get_value(x, rate):\n",
    "    y = 100\n",
    "    return y\n",
    "\n",
    "# 次の命令を実行し、1200と表示されればよい\n",
    "print(get_value(1000, 0.2))"
   ]
  },
  {
   "cell_type": "markdown",
   "id": "cd90b78f-ec4e-4c8d-8edf-c3ed75725a5a",
   "metadata": {},
   "source": [
    "解答例とその画面出力は以下の通り（隠れている場合はクリックして開く）"
   ]
  },
  {
   "cell_type": "code",
   "execution_count": 16,
   "id": "bcf3d9fa-4a14-4f16-ad72-d3aae388f9ff",
   "metadata": {
    "tags": [
     "hide-output",
     "hide-input"
    ]
   },
   "outputs": [
    {
     "name": "stdout",
     "output_type": "stream",
     "text": [
      "x 1000\n",
      "rate 0.2\n",
      "1200.0\n"
     ]
    }
   ],
   "source": [
    "# 税率の計算　計算例1\n",
    "\n",
    "def get_value(x, rate):\n",
    "    print(\"x\", x)        # 引数の中身をこれで確認\n",
    "    print(\"rate\", rate)\n",
    "    \n",
    "    y = x * (1 + rate)   # 税込み金額をyに代入\n",
    "    return y\n",
    "\n",
    "print(get_value(1000, 0.2))   # 関数を呼び出した結果をprint()で表示"
   ]
  },
  {
   "cell_type": "code",
   "execution_count": 18,
   "id": "8119390a-fa1e-4237-817f-061a9b3cb066",
   "metadata": {
    "tags": [
     "hide-output",
     "hide-input"
    ]
   },
   "outputs": [
    {
     "name": "stdout",
     "output_type": "stream",
     "text": [
      "x 1000\n",
      "rate 0.2\n",
      "1200.0\n"
     ]
    }
   ],
   "source": [
    "# 税率の計算　計算例2\n",
    "# 関数内でyという変数を使わずに、いきなりreturnで戻した。\n",
    "# 読みやすい、わかりやすい方を使えばよい。\n",
    "\n",
    "def get_value(x, rate):\n",
    "    print(\"x\", x)        # 引数の中身をこれで確認\n",
    "    print(\"rate\", rate)\n",
    "    \n",
    "    return x * (1 + rate)   # 税込み金額を計算して、returnで戻す\n",
    "\n",
    "result = get_value(1000, 0.2)  # 関数を呼び出して返ってきた値を変数に格納\n",
    "print(result)"
   ]
  },
  {
   "cell_type": "markdown",
   "id": "3ae08bd5-1641-4712-9fc7-72a451936782",
   "metadata": {},
   "source": [
    "---\n",
    "### 問題　気体のモル数nを求める関数\n",
    "　気体は$ pV = nRT $に概ね従うことが知られている。ここで、$ p $ は気圧\\[Pa\\]、$ V $は体積\\[ $ m^3 $ \\]、$ n $は気体の分子数\\[mol\\]、$ R $は気体定数\\[J / K･mol\\]、$ T $は気体の温度\\[K\\]を表している。\n",
    " \n",
    "次のセルに、気体のモル数nを求める関数のひな型を示している。これを改造して、気体のモル数を求めて返す関数を作成せよ。ただし、気体定数と温度は仮引数でそれぞれ8.314と300を指定すること。"
   ]
  },
  {
   "cell_type": "code",
   "execution_count": 11,
   "id": "723c41c1-a7c3-4889-84ed-e9a3636feb35",
   "metadata": {},
   "outputs": [
    {
     "data": {
      "text/plain": [
       "100"
      ]
     },
     "execution_count": 11,
     "metadata": {},
     "output_type": "execute_result"
    }
   ],
   "source": [
    "# 気体のモル数を求める　計算例1\n",
    "def get_n(p, V, R, T):\n",
    "    n = 100\n",
    "    return n\n",
    "\n",
    "# 以下の命令を実行して、約1.0と表示されればよい\n",
    "get_n(1013.25 * 100, 22.4 / 1000, 8.314, 273.15)"
   ]
  },
  {
   "cell_type": "code",
   "execution_count": 12,
   "id": "18a92182-5964-4272-a182-b262c06d0588",
   "metadata": {
    "tags": [
     "hide-output",
     "hide-input"
    ]
   },
   "outputs": [
    {
     "data": {
      "text/plain": [
       "0.9994323568735479"
      ]
     },
     "execution_count": 12,
     "metadata": {},
     "output_type": "execute_result"
    }
   ],
   "source": [
    "# 気体のモル数を求める　計算例1\n",
    "def get_n(p, V, R=8.314, T=300):\n",
    "    n = (p * V) / (R * T)\n",
    "    return n\n",
    "\n",
    "get_n(1013.25 * 100, 22.4 / 1000, 8.314, 273.15)"
   ]
  },
  {
   "cell_type": "code",
   "execution_count": 13,
   "id": "2f1049df-54bc-4a2e-ad83-5206c921a1fd",
   "metadata": {
    "tags": [
     "hide-output",
     "hide-input"
    ]
   },
   "outputs": [
    {
     "data": {
      "text/plain": [
       "0.6824873707000241"
      ]
     },
     "execution_count": 13,
     "metadata": {},
     "output_type": "execute_result"
    }
   ],
   "source": [
    "# 一部の仮引数だけ、具体的な値を指定する例\n",
    "get_n(1013.25 * 100, 22.4 / 1000, T=400)"
   ]
  }
 ],
 "metadata": {
  "kernelspec": {
   "display_name": "Python 3 (ipykernel)",
   "language": "python",
   "name": "python3"
  },
  "language_info": {
   "codemirror_mode": {
    "name": "ipython",
    "version": 3
   },
   "file_extension": ".py",
   "mimetype": "text/x-python",
   "name": "python",
   "nbconvert_exporter": "python",
   "pygments_lexer": "ipython3",
   "version": "3.10.7"
  }
 },
 "nbformat": 4,
 "nbformat_minor": 5
}