{
 "cells": [
  {
   "cell_type": "markdown",
   "id": "narrow-trinidad",
   "metadata": {},
   "source": [
    "# pandasの基本問題\n",
    "pandasはPythonで使える表形式データ処理用のライブラリです。\n",
    "列間の演算、条件抽出、集計、異常値への対応、表同士の結合（マージ）、簡易統計、各種形式での出力、グラフ作成、などが行えます。\n",
    "Excelでは手に負えないサイズの表を、Excelよりも素早く処理できるので、数百万行程度ならかなり便利に利用できます。\n",
    "利用するにはpandasをimportします。\n",
    "\n",
    "\n",
    "**記述例**  \n",
    "\n",
    "```python  \n",
    "import pandas as pd    # pandasを取り込み、pdという名前で使う、という命令\n",
    "\n",
    "df = pd.DataFrame()           # 空のDataFrameを作成。型はDataFrame。\n",
    "df[\"A\"] = [11,32,3,7,53,12]   # A列にデータを追加\n",
    "print(df[df[\"A\"] > 20])       # A列で20より大きい値を抽出して表示\n",
    "```\n",
    "```text\n",
    "    A\n",
    "1  32\n",
    "4  53\n",
    "```\n",
    "と表示される。\n",
    "\n",
    "<br>\n",
    "\n",
    "**よく使う関数（メソッド）**    \n",
    "\n",
    "- pd.read_csv(file_name)  # csvファイルを読み込む。文字コードの指定が必要なことも。\n",
    "- pd.read_excel(file_name)  # Excelファイルを読み込む。シート名・番号を指定しないと、0番目が読まれる。\n",
    "- pd.read_html(url)   # Webサイトに埋め込まれた表を読み込む。DataFrame型の要素を持つlist型が返る。\n",
    "- df.head()      # DataFrame型の変数dfがあるとして、dfの上から5行が表示される。行が多い場合に利用。\n",
    "- df.dropna()    # DataFrame型の変数dfがあるとして、dfから非値nanを含む行を削除する。特定の列を指定するには引数subsetを指定する。\n",
    "\n",
    "<br>\n",
    "\n",
    "**よく使う書き方** \n",
    "\n",
    "- df[\"A\"].values  # DataFrame型の変数dfがあるとして、そのA列を取り出してndarray型に変える"
   ]
  },
  {
   "cell_type": "markdown",
   "id": "polished-socket",
   "metadata": {
    "tags": []
   },
   "source": [
    "---\n",
    "### 問題　Web上の表の読み込み\n",
    "気象庁はアメダスの観測データをインターネットで閲覧できるようにしています。その表を1つ読み込んでみましょう。読み込む対象のURLを以下に示します。  \n",
    "\n",
    "https://www.data.jma.go.jp/obd/stats/etrn/view/10min_a1.php?prec_no=86&block_no=0846&year=2021&month=10&day=01&view=p1\n",
    "\n",
    "気象データを格納した表を表示できればOKです。  \n",
    "＊将来的に公開方法が変更になり、表を読み込めなくなるかもしれません。  \n",
    "\n",
    "【注意】  \n",
    "もしlxmlモジュールがない、というエラーが出たら、下記のコマンドを実行してインストールしてください。\n",
    "\n",
    "```bash\n",
    "!pip install lxml\n",
    "```\n",
    "\n",
    "ローカル環境で実行している場合は以下のコマンドかもしれません。実行後はカーネルをリセットしてください。\n",
    "```bash\n",
    "!py -m pip install lxml\n",
    "```\n",
    "\n",
    "<br>\n",
    "<details>\n",
    "<summary>■解答例の表示（Click）</summary><div>\n",
    "    \n",
    "解答例を以下に示す。\n",
    "ここでは、列名などは特に何も手を加えていない。\n",
    "    \n",
    "```python  \n",
    "import pandas as pd   # pandasを読み込んで、pdという名前で使う宣言\n",
    "\n",
    "# urlの指定、読み込み、表示\n",
    "url = \"https://www.data.jma.go.jp/obd/stats/etrn/view/10min_a1.php?prec_no=86&block_no=0846&year=2021&month=10&day=01&view=p1\"\n",
    "dfs = pd.read_html(url)    # Webページ内の全tableを読み込む\n",
    "df = dfs[0]   # 気象データの入ったDataFrameを取り出す\n",
    "print(df)     # 表の表示（jupyterやColaboratoryならセルの最期に変数名だけ書いた方が良いが、ここではprint()で表示）\n",
    "```  \n",
    "    \n",
    "ブラウザで見れる気象データと同じものが表示されれば良い。\n",
    "\n",
    "</div></details>"
   ]
  },
  {
   "cell_type": "code",
   "execution_count": null,
   "id": "approximate-wallet",
   "metadata": {},
   "outputs": [],
   "source": []
  },
  {
   "cell_type": "markdown",
   "id": "reported-warren",
   "metadata": {},
   "source": [
    "---\n",
    "<b>以下は問題作成用のコード</b>  \n",
    "無視してください。"
   ]
  },
  {
   "cell_type": "code",
   "execution_count": 1,
   "id": "equal-jenny",
   "metadata": {},
   "outputs": [
    {
     "name": "stdout",
     "output_type": "stream",
     "text": [
      "    A\n",
      "1  32\n",
      "4  53\n"
     ]
    }
   ],
   "source": [
    "import pandas as pd    # pandasを取り込み、pdという名前で使う、という命令\n",
    "\n",
    "df = pd.DataFrame()           # 空のDataFrame\n",
    "df[\"A\"] = [11,32,3,7,53,12]   # A列にデータを追加\n",
    "print(df[df[\"A\"] > 20])       # A列で20より大きい値を抽出して表示"
   ]
  }
 ],
 "metadata": {
  "kernelspec": {
   "display_name": "Python 3 (ipykernel)",
   "language": "python",
   "name": "python3"
  },
  "language_info": {
   "codemirror_mode": {
    "name": "ipython",
    "version": 3
   },
   "file_extension": ".py",
   "mimetype": "text/x-python",
   "name": "python",
   "nbconvert_exporter": "python",
   "pygments_lexer": "ipython3",
   "version": "3.10.7"
  }
 },
 "nbformat": 4,
 "nbformat_minor": 5
}
